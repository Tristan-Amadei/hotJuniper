{
 "cells": [
  {
   "cell_type": "code",
   "execution_count": 1,
   "id": "60f92475-58a8-4921-a8e3-6c7c93522faa",
   "metadata": {},
   "outputs": [],
   "source": [
    "%%capture capt\n",
    "!pip install matplotlib torchsummary scikit-learn pandas\n",
    "!pip install -U imbalanced-learn"
   ]
  },
  {
   "cell_type": "code",
   "execution_count": 1,
   "id": "4bfe83f2-41cb-49eb-b2b8-5c788db6d612",
   "metadata": {
    "id": "4bfe83f2-41cb-49eb-b2b8-5c788db6d612"
   },
   "outputs": [],
   "source": [
    "import numpy as np\n",
    "import matplotlib.pyplot as plt\n",
    "import time\n",
    "import pandas as pd\n",
    "\n",
    "import torch\n",
    "import torch.nn as nn\n",
    "import torch.optim as optim\n",
    "from torch.utils.data import DataLoader, TensorDataset\n",
    "from torchvision import transforms, models\n",
    "from torchsummary import summary\n",
    "\n",
    "from sklearn.metrics import accuracy_score, balanced_accuracy_score\n",
    "from sklearn.metrics import confusion_matrix, ConfusionMatrixDisplay\n",
    "from sklearn.metrics import classification_report\n",
    "from sklearn.model_selection import LeaveOneGroupOut"
   ]
  },
  {
   "cell_type": "code",
   "execution_count": 2,
   "id": "5d7c7cd5-1d8f-4f20-9e28-46e7fa2cb556",
   "metadata": {
    "id": "5d7c7cd5-1d8f-4f20-9e28-46e7fa2cb556"
   },
   "outputs": [],
   "source": [
    "from gilbert2d import gilbert2d"
   ]
  },
  {
   "cell_type": "code",
   "execution_count": 3,
   "id": "YAJuvbQdk4K7",
   "metadata": {
    "colab": {
     "base_uri": "https://localhost:8080/"
    },
    "id": "YAJuvbQdk4K7",
    "outputId": "20bd4c6c-626d-4d87-9adb-5ef088500ac5"
   },
   "outputs": [
    {
     "name": "stdout",
     "output_type": "stream",
     "text": [
      "Model running on cuda.\n"
     ]
    }
   ],
   "source": [
    "device = torch.device(\"cuda\" if torch.cuda.is_available() else \"cpu\")\n",
    "print(f\"Model running on {device}.\")"
   ]
  },
  {
   "cell_type": "markdown",
   "id": "9320f5ba-7ba8-4e94-90b9-43716de90782",
   "metadata": {
    "id": "9320f5ba-7ba8-4e94-90b9-43716de90782"
   },
   "source": [
    "## Data Loading"
   ]
  },
  {
   "cell_type": "code",
   "execution_count": 4,
   "id": "129ee3b0-7c39-4dfe-8bf3-5b8ff2219c7b",
   "metadata": {
    "id": "129ee3b0-7c39-4dfe-8bf3-5b8ff2219c7b"
   },
   "outputs": [],
   "source": [
    "CLASSES = [\"asymetric\", \"banded\", \"locked\", \"butterfly\", \"no_pattern\"]"
   ]
  },
  {
   "cell_type": "code",
   "execution_count": 5,
   "id": "cdbe6ad6-800f-4bf2-9b5c-2abc3b59cdc0",
   "metadata": {
    "id": "cdbe6ad6-800f-4bf2-9b5c-2abc3b59cdc0"
   },
   "outputs": [],
   "source": [
    "# Mapping int to categories\n",
    "int_to_cat = {\n",
    "    0: \"asymetric\",\n",
    "    1: \"banded\",\n",
    "    2: \"locked\",\n",
    "    3: \"butterfly\",\n",
    "    4: \"no_pattern\",\n",
    "}"
   ]
  },
  {
   "cell_type": "code",
   "execution_count": 6,
   "id": "13a849af-6b7c-4ffd-83f2-3bf6c2971442",
   "metadata": {
    "id": "13a849af-6b7c-4ffd-83f2-3bf6c2971442"
   },
   "outputs": [],
   "source": [
    "X_train = np.load(\"./data/X_train.npy\")\n",
    "y_train_df = pd.read_csv(\"./data/y_train.csv\")"
   ]
  },
  {
   "cell_type": "code",
   "execution_count": 7,
   "id": "dc087a3f-2484-4078-b708-d9779bc51176",
   "metadata": {
    "id": "dc087a3f-2484-4078-b708-d9779bc51176"
   },
   "outputs": [],
   "source": [
    "X_test = np.load(\"./data/X_test.npy\")\n",
    "y_test_df = pd.read_csv(\"./data/y_test.csv\")"
   ]
  },
  {
   "cell_type": "markdown",
   "id": "c20e8d69-57d2-41b6-9b5c-68b12bec9515",
   "metadata": {},
   "source": [
    "## SMOTE"
   ]
  },
  {
   "cell_type": "code",
   "execution_count": 8,
   "id": "ca2152c6-84b1-4587-a419-a833f7ed3f40",
   "metadata": {},
   "outputs": [],
   "source": [
    "from imblearn.over_sampling import SMOTE, KMeansSMOTE, SVMSMOTE"
   ]
  },
  {
   "cell_type": "code",
   "execution_count": 9,
   "id": "d4fef1d2-4c78-4590-bfe9-a6b9c3b2b236",
   "metadata": {},
   "outputs": [],
   "source": [
    "def smote_X(X, y, method=None, k_neighbors=5, m_neighbors=10):\n",
    "    if method is None or method=='None':\n",
    "        return X, y\n",
    "    if method == 'standard':\n",
    "        sm = SMOTE(k_neighbors=k_neighbors)\n",
    "    if method == 'KMeans':\n",
    "        sm = KMeansSMOTE(k_neighbors=k_neighbors)\n",
    "    if method == 'SVM':\n",
    "        sm = SVMSMOTE(k_neighbors=k_neighbors, m_neighbors=m_neighbors)\n",
    "\n",
    "    length, nrows, ncols = X.shape\n",
    "    X = X.reshape(length, -1)\n",
    "    X, y = sm.fit_resample(X, y)\n",
    "    X = X.reshape(-1, nrows, ncols)\n",
    "    return X, y"
   ]
  },
  {
   "cell_type": "markdown",
   "id": "84cdff4c-bd71-45c2-81b9-b3a160cef502",
   "metadata": {
    "id": "84cdff4c-bd71-45c2-81b9-b3a160cef502"
   },
   "source": [
    "## Flatten with Peano curve"
   ]
  },
  {
   "cell_type": "code",
   "execution_count": 10,
   "id": "f0ceba34-f023-44d6-813c-56e84a971f38",
   "metadata": {
    "id": "f0ceba34-f023-44d6-813c-56e84a971f38"
   },
   "outputs": [],
   "source": [
    "def flatten_peano(X):\n",
    "    peano_indices = np.array(list(gilbert2d(X[0].shape[0], X[0].shape[1])))\n",
    "    flat_indices = X[0].shape[1] * peano_indices[:, 0] + peano_indices[:, 1]\n",
    "    return X.reshape(-1, X[0].shape[0]*X[0].shape[1])[:, flat_indices]"
   ]
  },
  {
   "cell_type": "code",
   "execution_count": 11,
   "id": "c38c6ac9-51b6-4dbe-9848-a078600af196",
   "metadata": {},
   "outputs": [],
   "source": [
    "def max_pool(img, factor=2):\n",
    "    \"\"\" Perform max pooling with a (factor x factor) kernel\"\"\"\n",
    "    ds_img = np.full((img.shape[0] // factor, img.shape[1] // factor), -float('inf'), dtype=img.dtype)\n",
    "    np.maximum.at(ds_img, (np.arange(img.shape[0])[:, None] // factor, np.arange(img.shape[1]) // factor), img)\n",
    "    return ds_img"
   ]
  },
  {
   "cell_type": "code",
   "execution_count": 12,
   "id": "1bf61830-bfe6-40c0-93fc-c684f7004fe5",
   "metadata": {},
   "outputs": [],
   "source": [
    "def black_and_white(X):\n",
    "    return np.where(X > 0.5, 1, 0)"
   ]
  },
  {
   "cell_type": "code",
   "execution_count": 13,
   "id": "d8ba33c3-65f2-4c9c-9042-ef809a634684",
   "metadata": {},
   "outputs": [],
   "source": [
    "def flatten(X_train, X_test, max_pool_factor=2, bw=False, peano=True):\n",
    "    if bw:\n",
    "        X_train = black_and_white(X_train)\n",
    "        X_test = black_and_white(X_test)\n",
    "\n",
    "    vectorized_max_pool = np.vectorize(lambda x: max_pool(x, max_pool_factor), signature='(m,n)->(k,l)')\n",
    "    if peano:\n",
    "        flattened_img_train = flatten_peano(vectorized_max_pool(X_train))\n",
    "        flattened_img_test = flatten_peano(vectorized_max_pool(X_test))\n",
    "    else:\n",
    "        flattened_img_train = X_train.reshape(len(X_train), -1)\n",
    "        flattened_img_test = X_test.reshape(len(X_test), -1)\n",
    "    return flattened_img_train, flattened_img_test"
   ]
  },
  {
   "cell_type": "code",
   "execution_count": 14,
   "id": "5f496e7a-0de4-4210-b554-ee0293975bbe",
   "metadata": {},
   "outputs": [],
   "source": [
    "def get_X_train_test(X_train, y_train_df, X_test, y_test_df,\n",
    "                    method='standard', k_neighbors=5, m_neighbors=10,\n",
    "                    max_pool_factor=2, bw=False, peano=True):\n",
    "    \n",
    "    X_train, y_train = smote_X(X_train, y_train_df.cat_num.values, method=method, k_neighbors=k_neighbors, m_neighbors=m_neighbors)\n",
    "    flattened_img_train, flattened_img_test = flatten(X_train, X_test, max_pool_factor=max_pool_factor, bw=bw, peano=peano)\n",
    "    \n",
    "    return flattened_img_train, y_train, flattened_img_test, y_test_df.cat_num.values"
   ]
  },
  {
   "cell_type": "markdown",
   "id": "52222955-42b5-495e-9063-363c3fd36908",
   "metadata": {
    "id": "52222955-42b5-495e-9063-363c3fd36908"
   },
   "source": [
    "# Train model"
   ]
  },
  {
   "cell_type": "code",
   "execution_count": 15,
   "id": "65c728ac-ad4d-4478-bea6-87784cc9b9d8",
   "metadata": {},
   "outputs": [],
   "source": [
    "%%capture capt\n",
    "!pip install optuna"
   ]
  },
  {
   "cell_type": "code",
   "execution_count": 16,
   "id": "ad3f89a3-0fdd-409d-8de8-f02f3dc1b40c",
   "metadata": {},
   "outputs": [],
   "source": [
    "from sklearn.ensemble import HistGradientBoostingClassifier\n",
    "from sklearn.model_selection import RandomizedSearchCV, GridSearchCV\n",
    "import optuna\n",
    "from sklearn.model_selection import cross_val_score"
   ]
  },
  {
   "cell_type": "code",
   "execution_count": 32,
   "id": "ef93e9cc-e01d-48e0-befc-257af685595c",
   "metadata": {},
   "outputs": [],
   "source": [
    "def objective_(trial, X_train, y_train, X_test, y_test):\n",
    "    learning_rate = trial.suggest_float('learning_rate', 1e-3, 1e-1, step=1e-1)\n",
    "    max_leaf_nodes = trial.suggest_int('max_leaf_nodes', 10, 100, step=10)\n",
    "    max_depth_none = trial.suggest_categorical('max_depth_none', [False, True])\n",
    "    if max_depth_none:\n",
    "        max_depth = trial.suggest_int('max_depth', 5, 150, step=5)\n",
    "    else:\n",
    "        max_depth = None\n",
    "    min_samples_leaf = trial.suggest_int(\"min_samples_leaf\", 5, 20, step=5)\n",
    "    l2_regularization = trial.suggest_float('l2_regularization', 0, 1, step=0.2)\n",
    "    \n",
    "\n",
    "    hgb_classifier = HistGradientBoostingClassifier(learning_rate=learning_rate, max_iter=500, max_leaf_nodes=max_leaf_nodes, max_depth=max_depth,\n",
    "                                                  min_samples_leaf=min_samples_leaf, early_stopping=True, validation_fraction=0.15, n_iter_no_change=3,\n",
    "                                                  class_weight='balanced')\n",
    "    hgb_classifier.fit(X_train, y_train)\n",
    "    y_pred = hgb_classifier.predict(X_test)\n",
    "    score = balanced_accuracy_score(y_test, y_pred)\n",
    "    return score"
   ]
  },
  {
   "cell_type": "code",
   "execution_count": 33,
   "id": "93104de1-92bb-436d-b5f3-d4e9ec9fc164",
   "metadata": {},
   "outputs": [],
   "source": [
    "def optuna_study(X_train, y_train_df, X_test, y_test_df,\n",
    "                    method='standard', k_neighbors=5, m_neighbors=10,\n",
    "                    max_pool_factor=2, bw=False, peano=True):\n",
    "    \n",
    "    X_train, y_train, X_test, y_test = get_X_train_test(X_train, y_train_df, X_test, y_test_df, method=method, k_neighbors=k_neighbors,\n",
    "                                                       m_neighbors=m_neighbors, max_pool_factor=max_pool_factor, bw=bw, peano=peano)\n",
    "    study_name = f'./hgb_optuna/HGB_{method}, k_neigh{k_neighbors}, m_neigh{m_neighbors}, pool{max_pool_factor}_bw{bw}_peano{peano}'\n",
    "    print(study_name)\n",
    "    study = optuna.create_study(direction = 'maximize', study_name=study_name, load_if_exists=True)\n",
    "    def objective(trial):\n",
    "        return objective_(trial, X_train, y_train, X_test, y_test)\n",
    "    study.optimize(objective, n_trials=500, show_progress_bar=True)\n",
    "    return study"
   ]
  },
  {
   "cell_type": "code",
   "execution_count": 34,
   "id": "3a6ca302-8346-4565-899f-d566e8e7495d",
   "metadata": {},
   "outputs": [],
   "source": [
    "methods = ['standard', 'KMeans']#, 'SVM']\n",
    "k_neighborss = [2, 5, 15, 20]\n",
    "max_pool_factors = [1, 2, 3, 5]\n",
    "bws = [False, True]\n",
    "peanos = [True, False]"
   ]
  },
  {
   "cell_type": "code",
   "execution_count": 35,
   "id": "797638b1-60df-47a9-a928-916d32c252d6",
   "metadata": {},
   "outputs": [],
   "source": [
    "res = {}\n",
    "for method in methods:\n",
    "    for k_neighbor in k_neighborss:\n",
    "        for max_pool_factor in max_pool_factors:\n",
    "            for bw in bws:\n",
    "                for peano in peanos:\n",
    "                    res[f'{method}_kneigh:{k_neighbor}_pool:{max_pool_factor}_bw:{bw}_peano:{peano}'] = -1\n",
    "for max_pool_factor in max_pool_factors:\n",
    "    for bw in bws:\n",
    "        for peano in peanos:\n",
    "            res[f'{None}_pool:{max_pool_factor}_bw:{bw}_peano:{peano}'] = -1"
   ]
  },
  {
   "cell_type": "code",
   "execution_count": 36,
   "id": "734a32eb-0cb6-4cbb-baa7-a0a73e9b531a",
   "metadata": {},
   "outputs": [
    {
     "data": {
      "text/plain": [
       "144"
      ]
     },
     "execution_count": 36,
     "metadata": {},
     "output_type": "execute_result"
    }
   ],
   "source": [
    "keys_to_try = np.array(list(res.keys()))\n",
    "np.random.shuffle(keys_to_try)\n",
    "len(keys_to_try)"
   ]
  },
  {
   "cell_type": "code",
   "execution_count": 37,
   "id": "838f7f8a-4ad0-4076-bbfe-9b1e2aea018a",
   "metadata": {},
   "outputs": [],
   "source": [
    "def get_args(key):\n",
    "    def left_val(arg):\n",
    "        return arg.split(\":\")[1]\n",
    "    args = key.split(\"_\")\n",
    "    method = args[0]\n",
    "    if len(args) == 5:\n",
    "        k_neighbors = int(left_val(args[1]))\n",
    "        max_pool_factor = int(left_val(args[2]))\n",
    "        bw = bool(left_val(args[3]))\n",
    "        peano = bool(left_val(args[4]))\n",
    "        return method, k_neighbors, max_pool_factor, bw, peano\n",
    "    max_pool_factor = int(left_val(args[1]))\n",
    "    bw = bool(left_val(args[2]))\n",
    "    peano = bool(left_val(args[3]))\n",
    "    return method, max_pool_factor, bw, peano"
   ]
  },
  {
   "cell_type": "code",
   "execution_count": null,
   "id": "14f07a38-17cb-41ee-8a2c-34d72e1eee19",
   "metadata": {},
   "outputs": [
    {
     "name": "stdout",
     "output_type": "stream",
     "text": [
      "KMeans_kneigh:15_pool:3_bw:False_peano:True\n"
     ]
    },
    {
     "name": "stderr",
     "output_type": "stream",
     "text": [
      "/opt/mamba/lib/python3.10/site-packages/sklearn/cluster/_kmeans.py:1934: FutureWarning: The default value of `n_init` will change from 3 to 'auto' in 1.4. Set the value of `n_init` explicitly to suppress the warning\n",
      "  super()._check_params_vs_input(X, default_n_init=3)\n",
      "/opt/mamba/lib/python3.10/site-packages/sklearn/cluster/_kmeans.py:1934: FutureWarning: The default value of `n_init` will change from 3 to 'auto' in 1.4. Set the value of `n_init` explicitly to suppress the warning\n",
      "  super()._check_params_vs_input(X, default_n_init=3)\n",
      "/opt/mamba/lib/python3.10/site-packages/sklearn/cluster/_kmeans.py:1934: FutureWarning: The default value of `n_init` will change from 3 to 'auto' in 1.4. Set the value of `n_init` explicitly to suppress the warning\n",
      "  super()._check_params_vs_input(X, default_n_init=3)\n",
      "/opt/mamba/lib/python3.10/site-packages/sklearn/cluster/_kmeans.py:1934: FutureWarning: The default value of `n_init` will change from 3 to 'auto' in 1.4. Set the value of `n_init` explicitly to suppress the warning\n",
      "  super()._check_params_vs_input(X, default_n_init=3)\n",
      "/opt/mamba/lib/python3.10/site-packages/numpy/core/numeric.py:330: RuntimeWarning: invalid value encountered in cast\n",
      "  multiarray.copyto(a, fill_value, casting='unsafe')\n",
      "[I 2023-12-23 11:36:57,158] A new study created in memory with name: ./hgb_optuna/HGB_KMeans, k_neigh15, m_neigh10, pool3_bwTrue_peanoTrue\n"
     ]
    },
    {
     "name": "stdout",
     "output_type": "stream",
     "text": [
      "./hgb_optuna/HGB_KMeans, k_neigh15, m_neigh10, pool3_bwTrue_peanoTrue\n"
     ]
    },
    {
     "data": {
      "application/vnd.jupyter.widget-view+json": {
       "model_id": "d753ffeb05f2471d98ef0527c6e24548",
       "version_major": 2,
       "version_minor": 0
      },
      "text/plain": [
       "  0%|          | 0/500 [00:00<?, ?it/s]"
      ]
     },
     "metadata": {},
     "output_type": "display_data"
    },
    {
     "name": "stderr",
     "output_type": "stream",
     "text": [
      "/opt/mamba/lib/python3.10/site-packages/optuna/distributions.py:685: UserWarning: The distribution is specified by [0.001, 0.1] and step=0.1, but the range is not divisible by `step`. It will be replaced by [0.001, 0.001].\n",
      "  warnings.warn(\n"
     ]
    }
   ],
   "source": [
    "import pickle\n",
    "\n",
    "for key in keys_to_try:\n",
    "    if res[key] != -1:\n",
    "        pass\n",
    "    else:\n",
    "        print(key)\n",
    "        args = get_args(key)\n",
    "        if len(args) == 5:\n",
    "            method, k_neighbors, max_pool_factor, bw, peano = args\n",
    "        else:\n",
    "            method, max_pool_factor, bw, peano = args\n",
    "            k_neighbors=5\n",
    "        study = optuna_study(X_train, y_train_df, X_test, y_test_df,\n",
    "                        method=method, k_neighbors=k_neighbors, m_neighbors=10,\n",
    "                        max_pool_factor=max_pool_factor, bw=bw, peano=peano)\n",
    "        best_trial = study.best_trial\n",
    "        best_score = best_trial.value\n",
    "        best_params = best_trial.params\n",
    "        res[key] = [best_score, study, best_params]\n",
    "        with open('hgb_res.pkl', 'wb') as f:\n",
    "            pickle.dump(res, f)"
   ]
  },
  {
   "cell_type": "markdown",
   "id": "794d95e2-9c1a-4c83-8eb8-1768e16499a1",
   "metadata": {},
   "source": [
    "### Scores"
   ]
  },
  {
   "cell_type": "code",
   "execution_count": 20,
   "id": "010ea52d-c2d8-4e2b-b716-585de50d3a0e",
   "metadata": {},
   "outputs": [],
   "source": [
    "%%capture capt\n",
    "y_pred = est.predict(X_test.cpu())\n",
    "y_pred_train = est.predict(X_train.cpu())"
   ]
  },
  {
   "cell_type": "code",
   "execution_count": 21,
   "id": "3b06259b-46d3-4977-828c-cbe1b69116d3",
   "metadata": {},
   "outputs": [
    {
     "name": "stdout",
     "output_type": "stream",
     "text": [
      "0.638888888888889 0.7058823529411765\n"
     ]
    },
    {
     "name": "stderr",
     "output_type": "stream",
     "text": [
      "/opt/mamba/lib/python3.10/site-packages/sklearn/metrics/_classification.py:2399: UserWarning: y_pred contains classes not in y_true\n",
      "  warnings.warn(\"y_pred contains classes not in y_true\")\n"
     ]
    },
    {
     "data": {
      "text/plain": [
       "(0.9819808687412304, 0.9819927971188476)"
      ]
     },
     "execution_count": 21,
     "metadata": {},
     "output_type": "execute_result"
    }
   ],
   "source": [
    "print(balanced_accuracy_score(y_pred, y_test.cpu()), accuracy_score(y_pred, y_test.cpu()))\n",
    "balanced_accuracy_score(y_pred_train, y_train.cpu()), accuracy_score(y_pred_train, y_train.cpu())"
   ]
  },
  {
   "cell_type": "code",
   "execution_count": 22,
   "id": "924ae617-4280-4bd0-b189-3d394b103670",
   "metadata": {},
   "outputs": [
    {
     "data": {
      "image/png": "[encoded data removed]",
      "text/plain": [
       "<Figure size 700x700 with 2 Axes>"
      ]
     },
     "metadata": {},
     "output_type": "display_data"
    }
   ],
   "source": [
    "disp = ConfusionMatrixDisplay.from_predictions(y_test.cpu(), y_pred)\n",
    "fig = disp.figure_\n",
    "fig.set_figwidth(7)\n",
    "fig.set_figheight(7)  \n",
    "plt.title(\"Confusion Matrix - test set\");"
   ]
  },
  {
   "cell_type": "code",
   "execution_count": 23,
   "id": "a650dbb2-dad8-4518-b182-64ff3fcf4180",
   "metadata": {},
   "outputs": [
    {
     "data": {
      "image/png": "[encoded data removed]",
      "text/plain": [
       "<Figure size 700x700 with 2 Axes>"
      ]
     },
     "metadata": {},
     "output_type": "display_data"
    }
   ],
   "source": [
    "disp = ConfusionMatrixDisplay.from_predictions(y_train.cpu(), y_pred_train)\n",
    "fig = disp.figure_\n",
    "fig.set_figwidth(7)\n",
    "fig.set_figheight(7)  \n",
    "plt.title(\"Confusion Matrix - train set\");"
   ]
  },
  {
   "cell_type": "markdown",
   "id": "9b8363d4-8159-4012-8efe-ad9e3538fbbf",
   "metadata": {},
   "source": [
    "## Ramp"
   ]
  },
  {
   "cell_type": "code",
   "execution_count": 77,
   "id": "cb24a989-78e0-4590-83bb-45e73a15c258",
   "metadata": {},
   "outputs": [],
   "source": [
    "class Classifier():\n",
    "    def __init__(self):\n",
    "        self.model = model\n",
    "\n",
    "    def fit(self, X, y):\n",
    "        self.X_ = X\n",
    "        self.y_ = y\n",
    "\n",
    "    def predict(self, X):\n",
    "        return\n",
    "\n",
    "    def predict_proba(self, X):\n",
    "        # Create an array of zeros\n",
    "        y_pred = np.zeros((X.shape[0], 5), dtype=int)\n",
    "        # Set one random index per row to 1\n",
    "        for i in range(X.shape[0]):\n",
    "            random_index = random.randint(0, 4)\n",
    "            y_pred[i, random_index] = 1\n",
    "        return np.array(y_pred)"
   ]
  },
  {
   "cell_type": "code",
   "execution_count": 78,
   "id": "fb18b338-c67b-45fc-ae20-f0804be3908b",
   "metadata": {},
   "outputs": [
    {
     "name": "stdout",
     "output_type": "stream",
     "text": [
      "\u001b[38;5;178m\u001b[1mTesting Hot Jupiter atmospheric pattern classification\u001b[0m\n",
      "\u001b[38;5;178m\u001b[1mReading train and test files from ./data/ ...\u001b[0m\n",
      "\u001b[38;5;178m\u001b[1mReading cv ...\u001b[0m\n",
      "\u001b[38;5;178m\u001b[1mTraining submissions/starting_kit ...\u001b[0m\n",
      "\u001b[38;5;178m\u001b[1mCV fold 0\u001b[0m\n",
      "\t\u001b[38;5;178m\u001b[1mscore  bal_acc    acc      time\u001b[0m\n",
      "\t\u001b[38;5;10m\u001b[1mtrain\u001b[0m      \u001b[38;5;10m\u001b[1m0.2\u001b[0m  \u001b[38;5;150m0.535\u001b[0m  \u001b[38;5;150m0.009778\u001b[0m\n",
      "\t\u001b[38;5;12m\u001b[1mvalid\u001b[0m      \u001b[38;5;12m\u001b[1m0.2\u001b[0m  \u001b[38;5;105m0.537\u001b[0m  \u001b[38;5;105m0.000182\u001b[0m\n",
      "\t\u001b[38;5;1m\u001b[1mtest\u001b[0m       \u001b[38;5;1m\u001b[1m0.2\u001b[0m  \u001b[38;5;218m0.618\u001b[0m  \u001b[38;5;218m0.000020\u001b[0m\n",
      "\u001b[38;5;178m\u001b[1mCV fold 1\u001b[0m\n",
      "\t\u001b[38;5;178m\u001b[1mscore  bal_acc    acc      time\u001b[0m\n",
      "\t\u001b[38;5;10m\u001b[1mtrain\u001b[0m      \u001b[38;5;10m\u001b[1m0.2\u001b[0m  \u001b[38;5;150m0.598\u001b[0m  \u001b[38;5;150m0.009918\u001b[0m\n",
      "\t\u001b[38;5;12m\u001b[1mvalid\u001b[0m      \u001b[38;5;12m\u001b[1m0.2\u001b[0m  \u001b[38;5;105m0.390\u001b[0m  \u001b[38;5;105m0.000166\u001b[0m\n",
      "\t\u001b[38;5;1m\u001b[1mtest\u001b[0m       \u001b[38;5;1m\u001b[1m0.2\u001b[0m  \u001b[38;5;218m0.618\u001b[0m  \u001b[38;5;218m0.000019\u001b[0m\n",
      "\u001b[38;5;178m\u001b[1mCV fold 2\u001b[0m\n",
      "\t\u001b[38;5;178m\u001b[1mscore  bal_acc    acc      time\u001b[0m\n",
      "\t\u001b[38;5;10m\u001b[1mtrain\u001b[0m      \u001b[38;5;10m\u001b[1m0.2\u001b[0m  \u001b[38;5;150m0.467\u001b[0m  \u001b[38;5;150m0.008288\u001b[0m\n",
      "\t\u001b[38;5;12m\u001b[1mvalid\u001b[0m      \u001b[38;5;12m\u001b[1m0.2\u001b[0m  \u001b[38;5;105m0.652\u001b[0m  \u001b[38;5;105m0.000162\u001b[0m\n",
      "\t\u001b[38;5;1m\u001b[1mtest\u001b[0m       \u001b[38;5;1m\u001b[1m0.2\u001b[0m  \u001b[38;5;218m0.618\u001b[0m  \u001b[38;5;218m0.000019\u001b[0m\n",
      "\u001b[38;5;178m\u001b[1m----------------------------\u001b[0m\n",
      "\u001b[38;5;178m\u001b[1mMean CV scores\u001b[0m\n",
      "\u001b[38;5;178m\u001b[1m----------------------------\u001b[0m\n",
      "\t\u001b[38;5;178m\u001b[1mscore    bal_acc             acc       time\u001b[0m\n",
      "\t\u001b[38;5;10m\u001b[1mtrain\u001b[0m  \u001b[38;5;10m\u001b[1m0.2\u001b[0m \u001b[38;5;150m\u001b[38;5;150m\u001b[38;5;150m±\u001b[0m\u001b[0m\u001b[0m \u001b[38;5;150m\u001b[38;5;150m\u001b[38;5;150m0.0\u001b[0m\u001b[0m\u001b[0m  \u001b[38;5;150m0.533\u001b[0m \u001b[38;5;150m\u001b[38;5;150m\u001b[38;5;150m±\u001b[0m\u001b[0m\u001b[0m \u001b[38;5;150m\u001b[38;5;150m\u001b[38;5;150m0.0\u001b[0m\u001b[0m\u001b[0m537  \u001b[38;5;150m\u001b[38;5;150m\u001b[38;5;150m0.0\u001b[0m\u001b[0m\u001b[0m \u001b[38;5;150m\u001b[38;5;150m\u001b[38;5;150m±\u001b[0m\u001b[0m\u001b[0m \u001b[38;5;150m\u001b[38;5;150m\u001b[38;5;150m0.0\u001b[0m\u001b[0m\u001b[0m\n",
      "\t\u001b[38;5;12m\u001b[1mvalid\u001b[0m  \u001b[38;5;12m\u001b[1m0.2\u001b[0m \u001b[38;5;105m\u001b[38;5;105m\u001b[38;5;105m±\u001b[0m\u001b[0m\u001b[0m \u001b[38;5;105m\u001b[38;5;105m\u001b[38;5;105m0.0\u001b[0m\u001b[0m\u001b[0m  \u001b[38;5;105m0.526\u001b[0m \u001b[38;5;105m\u001b[38;5;105m\u001b[38;5;105m±\u001b[0m\u001b[0m\u001b[0m \u001b[38;5;105m0.1071\u001b[0m  \u001b[38;5;105m\u001b[38;5;105m\u001b[38;5;105m0.0\u001b[0m\u001b[0m\u001b[0m \u001b[38;5;105m\u001b[38;5;105m\u001b[38;5;105m±\u001b[0m\u001b[0m\u001b[0m \u001b[38;5;105m\u001b[38;5;105m\u001b[38;5;105m0.0\u001b[0m\u001b[0m\u001b[0m\n",
      "\t\u001b[38;5;1m\u001b[1mtest\u001b[0m   \u001b[38;5;1m\u001b[1m0.2\u001b[0m \u001b[38;5;218m\u001b[38;5;218m\u001b[38;5;218m±\u001b[0m\u001b[0m\u001b[0m \u001b[38;5;218m\u001b[38;5;218m\u001b[38;5;218m\u001b[38;5;218m0.0\u001b[0m\u001b[0m\u001b[0m\u001b[0m     \u001b[38;5;218m0.618\u001b[0m \u001b[38;5;218m\u001b[38;5;218m\u001b[38;5;218m±\u001b[0m\u001b[0m\u001b[0m \u001b[38;5;218m\u001b[38;5;218m\u001b[38;5;218m\u001b[38;5;218m0.0\u001b[0m\u001b[0m\u001b[0m\u001b[0m  \u001b[38;5;218m\u001b[38;5;218m\u001b[38;5;218m\u001b[38;5;218m0.0\u001b[0m\u001b[0m\u001b[0m\u001b[0m \u001b[38;5;218m\u001b[38;5;218m\u001b[38;5;218m±\u001b[0m\u001b[0m\u001b[0m \u001b[38;5;218m\u001b[38;5;218m\u001b[38;5;218m\u001b[38;5;218m0.0\u001b[0m\u001b[0m\u001b[0m\u001b[0m\n",
      "\u001b[38;5;178m\u001b[1m----------------------------\u001b[0m\n",
      "\u001b[38;5;178m\u001b[1mBagged scores\u001b[0m\n",
      "\u001b[38;5;178m\u001b[1m----------------------------\u001b[0m\n",
      "\t\u001b[38;5;178m\u001b[1mscore  bal_acc    acc\u001b[0m\n",
      "\t\u001b[38;5;12m\u001b[1mvalid\u001b[0m      \u001b[38;5;12m\u001b[1m0.2\u001b[0m  \u001b[38;5;105m0.535\u001b[0m\n",
      "\t\u001b[38;5;1m\u001b[1mtest\u001b[0m       \u001b[38;5;1m\u001b[1m0.2\u001b[0m  \u001b[38;5;218m0.618\u001b[0m\n"
     ]
    }
   ],
   "source": [
    "!ramp-test --submission starting_kit"
   ]
  }
 ],
 "metadata": {
  "accelerator": "GPU",
  "colab": {
   "gpuType": "T4",
   "provenance": []
  },
  "kernelspec": {
   "display_name": "Python 3 (ipykernel)",
   "language": "python",
   "name": "python3"
  },
  "language_info": {
   "codemirror_mode": {
    "name": "ipython",
    "version": 3
   },
   "file_extension": ".py",
   "mimetype": "text/x-python",
   "name": "python",
   "nbconvert_exporter": "python",
   "pygments_lexer": "ipython3",
   "version": "3.10.13"
  }
 },
 "nbformat": 4,
 "nbformat_minor": 5
}
